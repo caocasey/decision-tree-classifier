{
 "cells": [
  {
   "cell_type": "code",
   "execution_count": 1,
   "metadata": {},
   "outputs": [
    {
     "name": "stderr",
     "output_type": "stream",
     "text": [
      "/anaconda3/lib/python3.6/site-packages/sklearn/cross_validation.py:41: DeprecationWarning: This module was deprecated in version 0.18 in favor of the model_selection module into which all the refactored classes and functions are moved. Also note that the interface of the new CV iterators are different from that of this module. This module will be removed in 0.20.\n",
      "  \"This module will be removed in 0.20.\", DeprecationWarning)\n",
      "/anaconda3/lib/python3.6/site-packages/sklearn/grid_search.py:42: DeprecationWarning: This module was deprecated in version 0.18 in favor of the model_selection module into which all the refactored classes and functions are moved. This module will be removed in 0.20.\n",
      "  DeprecationWarning)\n",
      "/anaconda3/lib/python3.6/site-packages/sklearn/learning_curve.py:22: DeprecationWarning: This module was deprecated in version 0.18 in favor of the model_selection module into which all the functions are moved. This module will be removed in 0.20\n",
      "  DeprecationWarning)\n"
     ]
    },
    {
     "data": {
      "text/plain": [
       "array(['unsat', 'very_unsat', 'very_sat', 'avg', 'sat'], dtype=object)"
      ]
     },
     "execution_count": 1,
     "metadata": {},
     "output_type": "execute_result"
    }
   ],
   "source": [
    "import numpy as np\n",
    "from sklearn import *\n",
    "import pandas as pd\n",
    "\n",
    "# import train datasets and convert string to float\n",
    "df_train = pd.read_csv(\"train.csv\")\n",
    "df_test = pd.read_csv(\"test.csv\")\n",
    "\n",
    "\n",
    "df_train.CONSIDERING_CHANGE_OF_PLAN.unique()\n",
    "df_train.REPORTED_USAGE_LEVEL.unique()\n",
    "df_train.REPORTED_SATISFACTION.unique()\n",
    "df_train.REPORTED_SATISFACTION.unique()\n",
    "\n",
    "df_train['COLLEGE'] = df_train['COLLEGE'].replace({\"one\": \"1\", \"zero\": \"0\"})\n",
    "df_train['CONSIDERING_CHANGE_OF_PLAN'] = df_train['CONSIDERING_CHANGE_OF_PLAN'].replace({\"no\": \"1\", \"considering\": \"2\",\"perhaps\": \"3\", \"never_thought\": \"0\", \"actively_looking_into_it\": '4'})\n",
    "df_train['REPORTED_USAGE_LEVEL'] = df_train['REPORTED_USAGE_LEVEL'].replace({\"little\": \"1\", \"very_little\": \"0\",\"perhaps\": \"2\", \"very_high\": \"5\", \"high\": '4',\"avg\": '3'})\n",
    "df_train['REPORTED_SATISFACTION'] = df_train['REPORTED_SATISFACTION'].replace({\"unsat\": \"1\", \"very_unsat\": \"0\",\"very_sat\": \"4\", \"avg\": \"2\", \"sat\": '3'})\n",
    "\n",
    "df_test['COLLEGE'] = df_train['COLLEGE'].replace({\"one\": \"1\", \"zero\": \"0\"})\n",
    "df_test['CONSIDERING_CHANGE_OF_PLAN'] = df_train['CONSIDERING_CHANGE_OF_PLAN'].replace({\"no\": \"1\", \"considering\": \"2\",\"perhaps\": \"3\", \"never_thought\": \"0\", \"actively_looking_into_it\": '4'})\n",
    "df_test['REPORTED_USAGE_LEVEL'] = df_train['REPORTED_USAGE_LEVEL'].replace({\"little\": \"1\", \"very_little\": \"0\",\"perhaps\": \"2\", \"very_high\": \"5\", \"high\": '4',\"avg\": '3'})\n",
    "df_test['REPORTED_SATISFACTION'] = df_train['REPORTED_SATISFACTION'].replace({\"unsat\": \"1\", \"very_unsat\": \"0\",\"very_sat\": \"4\", \"avg\": \"2\", \"sat\": '3'})\n",
    "\n",
    "\n",
    "\n",
    "df_train.to_csv('train2.csv', index=False)\n",
    "df_test.to_csv('test2.csv', index=False)\n",
    "\n",
    "df_test.head()"
   ]
  },
  {
   "cell_type": "code",
   "execution_count": 4,
   "metadata": {},
   "outputs": [
    {
     "name": "stdout",
     "output_type": "stream",
     "text": [
      "[0 1 1 ..., 0 0 1]\n",
      "0.710777777778\n"
     ]
    }
   ],
   "source": [
    "#df_train = pd.read_csv(\"train3.csv\")\n",
    "#df_test = pd.read_csv(\"test3.csv\")\n",
    "#df_target = pd.read_csv(\"test4.csv\")\n",
    "\n",
    "df_train = pd.read_csv(\"train2.csv\")\n",
    "df_test = pd.read_csv(\"test2.csv\")\n",
    "\n",
    "#selecting features\n",
    "features = list(df_train.columns[:11])\n",
    "\n",
    "X = df_train[features]\n",
    "Y = df_train['LEAVE']\n",
    "#y_test = df_target['LEAVE']\n",
    "\n",
    "DTree = tree.DecisionTreeClassifier(class_weight=None,\n",
    "                                    criterion='gini',\n",
    "                                    max_depth=6,#max_depth avoid overfitting\n",
    "                                    max_features=None, #features number\n",
    "                                    max_leaf_nodes=None,\n",
    "                                    min_impurity_decrease=1e-05, #limit the length grow of the tree，\n",
    "                                    #if impurity<1e-05 then it will not have children.Be a leaf node.\n",
    "                                    min_samples_leaf=1,\n",
    "                                    min_samples_split=2,\n",
    "                                    #min_samples_split or min_samples_leaf control the sample number on leaf\n",
    "                                    random_state=None, splitter='best')\n",
    "            \n",
    "DTree = DTree.fit(X, Y)\n",
    "predictions = DTree.predict(df_test)\n",
    "print(predictions)\n",
    "\n",
    "pd.DataFrame(predictions, columns=['LEAVE']).to_csv('prediction.csv')\n",
    "\n",
    "accuracy = DTree.score(X,Y)\n",
    "\n",
    "print(accuracy)\n",
    "\n",
    "\n",
    "#metrics.classification_report(y_test,predictions)"
   ]
  },
  {
   "cell_type": "code",
   "execution_count": null,
   "metadata": {
    "collapsed": true
   },
   "outputs": [],
   "source": []
  }
 ],
 "metadata": {
  "kernelspec": {
   "display_name": "Python 3",
   "language": "python",
   "name": "python3"
  },
  "language_info": {
   "codemirror_mode": {
    "name": "ipython",
    "version": 3
   },
   "file_extension": ".py",
   "mimetype": "text/x-python",
   "name": "python",
   "nbconvert_exporter": "python",
   "pygments_lexer": "ipython3",
   "version": "3.6.3"
  }
 },
 "nbformat": 4,
 "nbformat_minor": 2
}
